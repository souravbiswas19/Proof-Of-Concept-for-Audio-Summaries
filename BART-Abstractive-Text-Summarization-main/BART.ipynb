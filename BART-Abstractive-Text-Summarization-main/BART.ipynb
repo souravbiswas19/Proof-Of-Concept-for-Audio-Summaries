{
  "nbformat": 4,
  "nbformat_minor": 0,
  "metadata": {
    "colab": {
      "provenance": []
    },
    "kernelspec": {
      "name": "python3",
      "display_name": "Python 3"
    },
    "language_info": {
      "name": "python"
    }
  },
  "cells": [
    {
      "cell_type": "code",
      "execution_count": 8,
      "metadata": {
        "id": "Sz3nm8TrASBR",
        "colab": {
          "base_uri": "https://localhost:8080/"
        },
        "outputId": "87bd8604-277a-4db4-ce36-3073ab69e080"
      },
      "outputs": [
        {
          "output_type": "stream",
          "name": "stdout",
          "text": [
            "Requirement already satisfied: transformers in /usr/local/lib/python3.10/dist-packages (4.35.2)\n",
            "Requirement already satisfied: filelock in /usr/local/lib/python3.10/dist-packages (from transformers) (3.13.1)\n",
            "Requirement already satisfied: huggingface-hub<1.0,>=0.16.4 in /usr/local/lib/python3.10/dist-packages (from transformers) (0.20.3)\n",
            "Requirement already satisfied: numpy>=1.17 in /usr/local/lib/python3.10/dist-packages (from transformers) (1.23.5)\n",
            "Requirement already satisfied: packaging>=20.0 in /usr/local/lib/python3.10/dist-packages (from transformers) (23.2)\n",
            "Requirement already satisfied: pyyaml>=5.1 in /usr/local/lib/python3.10/dist-packages (from transformers) (6.0.1)\n",
            "Requirement already satisfied: regex!=2019.12.17 in /usr/local/lib/python3.10/dist-packages (from transformers) (2023.12.25)\n",
            "Requirement already satisfied: requests in /usr/local/lib/python3.10/dist-packages (from transformers) (2.31.0)\n",
            "Requirement already satisfied: tokenizers<0.19,>=0.14 in /usr/local/lib/python3.10/dist-packages (from transformers) (0.15.1)\n",
            "Requirement already satisfied: safetensors>=0.3.1 in /usr/local/lib/python3.10/dist-packages (from transformers) (0.4.2)\n",
            "Requirement already satisfied: tqdm>=4.27 in /usr/local/lib/python3.10/dist-packages (from transformers) (4.66.1)\n",
            "Requirement already satisfied: fsspec>=2023.5.0 in /usr/local/lib/python3.10/dist-packages (from huggingface-hub<1.0,>=0.16.4->transformers) (2023.6.0)\n",
            "Requirement already satisfied: typing-extensions>=3.7.4.3 in /usr/local/lib/python3.10/dist-packages (from huggingface-hub<1.0,>=0.16.4->transformers) (4.5.0)\n",
            "Requirement already satisfied: charset-normalizer<4,>=2 in /usr/local/lib/python3.10/dist-packages (from requests->transformers) (3.3.2)\n",
            "Requirement already satisfied: idna<4,>=2.5 in /usr/local/lib/python3.10/dist-packages (from requests->transformers) (3.6)\n",
            "Requirement already satisfied: urllib3<3,>=1.21.1 in /usr/local/lib/python3.10/dist-packages (from requests->transformers) (2.0.7)\n",
            "Requirement already satisfied: certifi>=2017.4.17 in /usr/local/lib/python3.10/dist-packages (from requests->transformers) (2023.11.17)\n"
          ]
        }
      ],
      "source": [
        "!pip install transformers"
      ]
    },
    {
      "cell_type": "markdown",
      "source": [
        "## Text Extraction"
      ],
      "metadata": {
        "id": "54qS1Ug6B2jw"
      }
    },
    {
      "cell_type": "code",
      "source": [
        "# Read the text from the file\n",
        "file_path = \"Task2.txt\"\n",
        "with open(file_path, \"r\", encoding=\"utf-8\") as file:\n",
        "    text = file.read()"
      ],
      "metadata": {
        "id": "f7tHGyL4BVdk"
      },
      "execution_count": 9,
      "outputs": []
    },
    {
      "cell_type": "code",
      "source": [
        "import re\n",
        "\n",
        "# Remove specified words and new line feeds\n",
        "filtered_text = re.sub(r'\\b(?:Introduction|Summary|Key Points|Conclusion|:|)\\b', '', text)\n",
        "filtered_text = re.sub(r'\\n', ' ', filtered_text)\n",
        "\n",
        "print(filtered_text)"
      ],
      "metadata": {
        "id": "X80_tcOcBYdv",
        "colab": {
          "base_uri": "https://localhost:8080/"
        },
        "outputId": "ccf50a5c-e877-460b-fedd-d1abb6738b51"
      },
      "execution_count": 10,
      "outputs": [
        {
          "output_type": "stream",
          "name": "stdout",
          "text": [
            ": Judgment on Complaint under Section 138 of the Negotiable Instruments Act  This text discusses a judgment from the Supreme Court of India regarding a complaint filed under Section 138 of the Negotiable Instruments Act. The case involves a dispute over a cheque issued by the respondent, which was returned due to insufficient funds. The Trial Court initially dismissed the complaint, but the Supreme Court upheld it, finding that the cheque was indeed issued by the respondent.  The complaint was dismissed initially due to contradictions in the evidence regarding the number of apple cartons and the amount owed. The High Court established that a cheque carries a presumption of consideration unless proven otherwise. The burden of proof is on the accused to rebut the presumption of consideration by providing evidence or circumstances to show that no debt existed. The court discusses the presumption of debt or liability under Section 139 of the Act and states that it may fail if the accused raises a probable defense. The court emphasizes that the presumption under Section 139 is a device to prevent undue delay in litigation and that dishonoring a check is largely a civil wrong. The respondent in this case failed to provide any evidence to rebut the presumption of consideration in issuing the cheque. The courts below were criticized for dismissing the complaint based on discrepancies in the determination of the amount due. The respondent is held guilty of dishonoring the cheque and is ordered to pay a fine and costs.  In conclusion, the Supreme Court of India upheld a complaint filed under Section 138 of the Negotiable Instruments Act. The court found that the cheque was issued by the respondent and criticized the lower courts for dismissing the complaint based on discrepancies in the evidence. The court emphasized the presumption of consideration under Section 139 and held the respondent guilty of dishonoring the cheque. The respondent was ordered to pay a fine and costs.\n"
          ]
        }
      ]
    },
    {
      "cell_type": "markdown",
      "source": [
        "## BART Summarizer"
      ],
      "metadata": {
        "id": "-e-2wFSjBaln"
      }
    },
    {
      "cell_type": "code",
      "source": [
        "from transformers import pipeline\n",
        "summarizer = pipeline(\"summarization\", model=\"facebook/bart-large-cnn\")\n",
        "summary = summarizer(text, max_length=200, min_length=100, do_sample=False)\n",
        "print(\"Original Text:\")\n",
        "print(text)\n",
        "print(\"\\nAbstractive Summary:\")\n",
        "print(summary)"
      ],
      "metadata": {
        "id": "aP-in_hWBhbn",
        "colab": {
          "base_uri": "https://localhost:8080/"
        },
        "outputId": "edd5d4b1-420f-4820-821a-e99647fa5318"
      },
      "execution_count": 11,
      "outputs": [
        {
          "output_type": "stream",
          "name": "stdout",
          "text": [
            "Original Text:\n",
            "Summary: Judgment on Complaint under Section 138 of the Negotiable Instruments Act\n",
            "Introduction\n",
            "This text discusses a judgment from the Supreme Court of India regarding a complaint filed under Section 138 of the Negotiable Instruments Act. The case involves a dispute over a cheque issued by the respondent, which was returned due to insufficient funds. The Trial Court initially dismissed the complaint, but the Supreme Court upheld it, finding that the cheque was indeed issued by the respondent.\n",
            "Key Points\n",
            "The complaint was dismissed initially due to contradictions in the evidence regarding the number of apple cartons and the amount owed.\n",
            "The High Court established that a cheque carries a presumption of consideration unless proven otherwise.\n",
            "The burden of proof is on the accused to rebut the presumption of consideration by providing evidence or circumstances to show that no debt existed.\n",
            "The court discusses the presumption of debt or liability under Section 139 of the Act and states that it may fail if the accused raises a probable defense.\n",
            "The court emphasizes that the presumption under Section 139 is a device to prevent undue delay in litigation and that dishonoring a check is largely a civil wrong.\n",
            "The respondent in this case failed to provide any evidence to rebut the presumption of consideration in issuing the cheque.\n",
            "The courts below were criticized for dismissing the complaint based on discrepancies in the determination of the amount due.\n",
            "The respondent is held guilty of dishonoring the cheque and is ordered to pay a fine and costs.\n",
            "Conclusion\n",
            "In conclusion, the Supreme Court of India upheld a complaint filed under Section 138 of the Negotiable Instruments Act. The court found that the cheque was issued by the respondent and criticized the lower courts for dismissing the complaint based on discrepancies in the evidence. The court emphasized the presumption of consideration under Section 139 and held the respondent guilty of dishonoring the cheque. The respondent was ordered to pay a fine and costs.\n",
            "\n",
            "Abstractive Summary:\n",
            "[{'summary_text': 'The Supreme Court of India upheld a complaint filed under Section 138 of the Negotiable Instruments Act. The case involves a dispute over a cheque issued by the respondent, which was returned due to insufficient funds. The complaint was dismissed initially due to contradictions in the evidence regarding the number of apple cartons and the amount owed. The court emphasized the presumption of consideration under Section 139 and held the respondent guilty of dishonoring the cheque. The respondent was ordered to pay a fine and costs.'}]\n"
          ]
        }
      ]
    },
    {
      "cell_type": "code",
      "source": [
        "with open(\"Task2_summary.txt\", \"w\") as file:\n",
        "    file.write(summary[0]['summary_text'])"
      ],
      "metadata": {
        "id": "uCI4nU9sBizH"
      },
      "execution_count": 12,
      "outputs": []
    },
    {
      "cell_type": "code",
      "source": [
        "!pip install gtts"
      ],
      "metadata": {
        "id": "sr1uuYcnBnTO",
        "colab": {
          "base_uri": "https://localhost:8080/"
        },
        "outputId": "dd3facf1-97b6-4faa-d3a5-878a43444533"
      },
      "execution_count": 13,
      "outputs": [
        {
          "output_type": "stream",
          "name": "stdout",
          "text": [
            "Requirement already satisfied: gtts in /usr/local/lib/python3.10/dist-packages (2.5.1)\n",
            "Requirement already satisfied: requests<3,>=2.27 in /usr/local/lib/python3.10/dist-packages (from gtts) (2.31.0)\n",
            "Requirement already satisfied: click<8.2,>=7.1 in /usr/local/lib/python3.10/dist-packages (from gtts) (8.1.7)\n",
            "Requirement already satisfied: charset-normalizer<4,>=2 in /usr/local/lib/python3.10/dist-packages (from requests<3,>=2.27->gtts) (3.3.2)\n",
            "Requirement already satisfied: idna<4,>=2.5 in /usr/local/lib/python3.10/dist-packages (from requests<3,>=2.27->gtts) (3.6)\n",
            "Requirement already satisfied: urllib3<3,>=1.21.1 in /usr/local/lib/python3.10/dist-packages (from requests<3,>=2.27->gtts) (2.0.7)\n",
            "Requirement already satisfied: certifi>=2017.4.17 in /usr/local/lib/python3.10/dist-packages (from requests<3,>=2.27->gtts) (2023.11.17)\n"
          ]
        }
      ]
    },
    {
      "cell_type": "code",
      "source": [
        "from gtts import gTTS\n",
        "import os\n",
        "\n",
        "# Text to be converted to speech\n",
        "text_audio = \"The summary of the input document is that \"+summary[0]['summary_text']\n",
        "\n",
        "# Language in which you want to convert\n",
        "language = 'en'\n",
        "\n",
        "# Slow down the speed of speech (optional)\n",
        "speed = 1\n",
        "\n",
        "# Provide the text and language to the engine\n",
        "tts = gTTS(text=text_audio, lang=language, slow=speed)\n",
        "\n",
        "# Save the converted speech to a file\n",
        "tts.save(\"output.mp3\")\n",
        "\n",
        "# Play the generated speech\n",
        "os.system(\"start output.mp3\")\n"
      ],
      "metadata": {
        "id": "UgqIsJPWBnn-",
        "colab": {
          "base_uri": "https://localhost:8080/"
        },
        "outputId": "73daf3d1-6f36-4c58-ffc2-e309ea3822b8"
      },
      "execution_count": 14,
      "outputs": [
        {
          "output_type": "execute_result",
          "data": {
            "text/plain": [
              "32512"
            ]
          },
          "metadata": {},
          "execution_count": 14
        }
      ]
    },
    {
      "cell_type": "code",
      "source": [],
      "metadata": {
        "id": "g74k8EUpBy0O"
      },
      "execution_count": null,
      "outputs": []
    }
  ]
}