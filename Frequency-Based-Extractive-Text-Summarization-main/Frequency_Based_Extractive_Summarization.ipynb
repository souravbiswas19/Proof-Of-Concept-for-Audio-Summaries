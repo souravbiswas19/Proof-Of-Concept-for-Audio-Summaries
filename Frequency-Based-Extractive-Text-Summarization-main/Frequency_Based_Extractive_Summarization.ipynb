{
  "nbformat": 4,
  "nbformat_minor": 0,
  "metadata": {
    "colab": {
      "provenance": []
    },
    "kernelspec": {
      "name": "python3",
      "display_name": "Python 3"
    },
    "language_info": {
      "name": "python"
    }
  },
  "cells": [
    {
      "cell_type": "code",
      "source": [
        "# Read the text from the file\n",
        "file_path = \"Task2.txt\"\n",
        "with open(file_path, \"r\", encoding=\"utf-8\") as file:\n",
        "    text = file.read()"
      ],
      "metadata": {
        "id": "jdhidEu-vnxT"
      },
      "execution_count": 8,
      "outputs": []
    },
    {
      "cell_type": "code",
      "source": [
        "import re\n",
        "\n",
        "# Remove specified words and new line feeds\n",
        "filtered_text = re.sub(r'\\b(?:Introduction|Summary|Key Points|Conclusion|:|)\\b', '', text)\n",
        "filtered_text = re.sub(r'\\n', ' ', filtered_text)\n",
        "\n",
        "text = filtered_text"
      ],
      "metadata": {
        "id": "m_ivq5-xxYDw"
      },
      "execution_count": 9,
      "outputs": []
    },
    {
      "cell_type": "code",
      "source": [
        "# Import necessary libraries\n",
        "import nltk\n",
        "import re\n",
        "nltk.download('stopwords')\n",
        "nltk.download('punkt')\n",
        "from nltk.tokenize import sent_tokenize, word_tokenize\n",
        "from nltk.corpus import stopwords\n",
        "from nltk.stem.porter import PorterStemmer\n",
        "from nltk.stem.wordnet import WordNetLemmatizer\n",
        "from nltk import pos_tag, ne_chunk\n",
        "from nltk.probability import FreqDist\n",
        "from nltk.cluster.util import cosine_distance\n",
        "\n",
        "# Original Text\n",
        "#text = \"Apple Inc. is an American multinational technology company headquartered in Cupertino, California that designs, develops, and sells consumer electronics, computer software, and online services. The company's hardware products include the iPhone smartphone, the iPad tablet computer, the Mac personal computer, the iPod portable media player, the Apple smartwatch, and the Apple TV digital media player.\"\n",
        "\n",
        "# Tokenization, Removing Stopwords, and Stemming\n",
        "stop_words = set(stopwords.words(\"english\"))\n",
        "sentences = sent_tokenize(text)\n",
        "\n",
        "def preprocess_text(sentence):\n",
        "    # Remove punctuation characters\n",
        "    sentence = re.sub(r\"[^a-zA-Z0-9]\", \" \", sentence)\n",
        "\n",
        "    # Tokenization\n",
        "    words = word_tokenize(sentence)\n",
        "\n",
        "    # Remove stopwords\n",
        "    filtered_words = [w for w in words if w.lower() not in stop_words]\n",
        "\n",
        "    # Stemming\n",
        "    stemmer = PorterStemmer()\n",
        "    stemmed = [stemmer.stem(w) for w in filtered_words]\n",
        "\n",
        "    return stemmed\n",
        "\n",
        "# Preprocess the sentences\n",
        "preprocessed_sentences = [preprocess_text(sentence) for sentence in sentences]\n",
        "\n",
        "# Flatten the list of preprocessed words\n",
        "flat_preprocessed_words = [word for sentence in preprocessed_sentences for word in sentence]\n",
        "\n",
        "# Calculate word frequency\n",
        "word_freq = FreqDist(flat_preprocessed_words)\n",
        "\n",
        "# Score sentences based on word frequency\n",
        "def score_sentences(sentences, word_freq):\n",
        "    sentence_scores = {}\n",
        "\n",
        "    for i, sentence in enumerate(sentences):\n",
        "        for word in sentence:\n",
        "            if word in word_freq:\n",
        "                if i in sentence_scores:\n",
        "                    sentence_scores[i] += word_freq[word]\n",
        "                else:\n",
        "                    sentence_scores[i] = word_freq[word]\n",
        "\n",
        "    return sentence_scores\n",
        "\n",
        "sentence_scores = score_sentences(preprocessed_sentences, word_freq)\n",
        "\n",
        "# Generate a summary by selecting top sentences\n",
        "summary_sentences = []\n",
        "if sentence_scores:\n",
        "    sorted_scores = sorted(sentence_scores.items(), key=lambda x: x[1], reverse=True)\n",
        "    top_sentences = sorted_scores[:3]  # Select the top 3 sentences as the summary\n",
        "\n",
        "    for index, _ in top_sentences:\n",
        "        summary_sentences.append(sentences[index])\n",
        "\n",
        "# Join the summary sentences to create the final summary\n",
        "summary = ' '.join(summary_sentences)\n",
        "\n",
        "# Print the summary\n",
        "print(\"\\nSummary:\")\n",
        "print(summary)"
      ],
      "metadata": {
        "colab": {
          "base_uri": "https://localhost:8080/"
        },
        "id": "IxTVqTP8wndw",
        "outputId": "494cb46c-53f2-426f-c47b-97a5fd554e62"
      },
      "execution_count": 10,
      "outputs": [
        {
          "output_type": "stream",
          "name": "stdout",
          "text": [
            "\n",
            "Summary:\n",
            ": Judgment on Complaint under Section 138 of the Negotiable Instruments Act  This text discusses a judgment from the Supreme Court of India regarding a complaint filed under Section 138 of the Negotiable Instruments Act. The court found that the cheque was issued by the respondent and criticized the lower courts for dismissing the complaint based on discrepancies in the evidence. The Trial Court initially dismissed the complaint, but the Supreme Court upheld it, finding that the cheque was indeed issued by the respondent.\n"
          ]
        },
        {
          "output_type": "stream",
          "name": "stderr",
          "text": [
            "[nltk_data] Downloading package stopwords to /root/nltk_data...\n",
            "[nltk_data]   Package stopwords is already up-to-date!\n",
            "[nltk_data] Downloading package punkt to /root/nltk_data...\n",
            "[nltk_data]   Package punkt is already up-to-date!\n"
          ]
        }
      ]
    },
    {
      "cell_type": "code",
      "source": [
        "!pip install gtts"
      ],
      "metadata": {
        "colab": {
          "base_uri": "https://localhost:8080/"
        },
        "id": "MvcigWdgvjVp",
        "outputId": "391c2f38-a58a-4f24-f538-b6b385467a55"
      },
      "execution_count": 11,
      "outputs": [
        {
          "output_type": "stream",
          "name": "stdout",
          "text": [
            "Requirement already satisfied: gtts in /usr/local/lib/python3.10/dist-packages (2.5.1)\n",
            "Requirement already satisfied: requests<3,>=2.27 in /usr/local/lib/python3.10/dist-packages (from gtts) (2.31.0)\n",
            "Requirement already satisfied: click<8.2,>=7.1 in /usr/local/lib/python3.10/dist-packages (from gtts) (8.1.7)\n",
            "Requirement already satisfied: charset-normalizer<4,>=2 in /usr/local/lib/python3.10/dist-packages (from requests<3,>=2.27->gtts) (3.3.2)\n",
            "Requirement already satisfied: idna<4,>=2.5 in /usr/local/lib/python3.10/dist-packages (from requests<3,>=2.27->gtts) (3.6)\n",
            "Requirement already satisfied: urllib3<3,>=1.21.1 in /usr/local/lib/python3.10/dist-packages (from requests<3,>=2.27->gtts) (2.0.7)\n",
            "Requirement already satisfied: certifi>=2017.4.17 in /usr/local/lib/python3.10/dist-packages (from requests<3,>=2.27->gtts) (2023.11.17)\n"
          ]
        }
      ]
    },
    {
      "cell_type": "code",
      "source": [
        "from gtts import gTTS\n",
        "import os\n",
        "\n",
        "# Text to be converted to speech\n",
        "text_audio = \"The summary of the input document is that \"+summary\n",
        "\n",
        "# Language in which you want to convert\n",
        "language = 'en'\n",
        "\n",
        "# Slow down the speed of speech (optional)\n",
        "speed = 1\n",
        "\n",
        "# Provide the text and language to the engine\n",
        "tts = gTTS(text=text_audio, lang=language, slow=speed)\n",
        "\n",
        "# Save the converted speech to a file\n",
        "tts.save(\"output.mp3\")\n"
      ],
      "metadata": {
        "id": "W8GxDHRVwB1K"
      },
      "execution_count": 12,
      "outputs": []
    },
    {
      "cell_type": "code",
      "source": [],
      "metadata": {
        "id": "SDrY7jDS32ZH"
      },
      "execution_count": null,
      "outputs": []
    }
  ]
}